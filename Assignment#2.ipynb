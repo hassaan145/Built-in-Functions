{
 "cells": [
  {
   "cell_type": "markdown",
   "metadata": {},
   "source": [
    "# PIAIC Batch 3\n",
    "# Assignment # 2\n",
    "## By Syed Hassaan Akhtar   "
   ]
  },
  {
   "cell_type": "markdown",
   "metadata": {},
   "source": [
    "# EX1 -> Practising Methods"
   ]
  },
  {
   "cell_type": "markdown",
   "metadata": {},
   "source": [
    "# 1) Capitalise"
   ]
  },
  {
   "cell_type": "code",
   "execution_count": 10,
   "metadata": {},
   "outputs": [
    {
     "name": "stdout",
     "output_type": "stream",
     "text": [
      "Hi, how are you?\n"
     ]
    }
   ],
   "source": [
    "a = \"hi, how are you?\"\n",
    "capa = a.capitalize()      #only capitalises first letter \n",
    "print(capa)"
   ]
  },
  {
   "cell_type": "markdown",
   "metadata": {},
   "source": [
    "# 2) Casefold "
   ]
  },
  {
   "cell_type": "code",
   "execution_count": 13,
   "metadata": {},
   "outputs": [
    {
     "name": "stdout",
     "output_type": "stream",
     "text": [
      "porfavore???\n"
     ]
    }
   ],
   "source": [
    "a = \"PorFavore???\"\n",
    "b = a.casefold()\n",
    "print(b)"
   ]
  },
  {
   "cell_type": "markdown",
   "metadata": {},
   "source": [
    "# 3) Center"
   ]
  },
  {
   "cell_type": "code",
   "execution_count": 14,
   "metadata": {},
   "outputs": [
    {
     "name": "stdout",
     "output_type": "stream",
     "text": [
      "         Sly lazy fox         \n"
     ]
    }
   ],
   "source": [
    "a = \"Sly lazy fox\"\n",
    "b = a.center(30)\n",
    "print(b)"
   ]
  },
  {
   "cell_type": "markdown",
   "metadata": {},
   "source": [
    "# 4) Count"
   ]
  },
  {
   "cell_type": "code",
   "execution_count": 17,
   "metadata": {},
   "outputs": [
    {
     "name": "stdout",
     "output_type": "stream",
     "text": [
      "1\n"
     ]
    }
   ],
   "source": [
    "x = \"In python, everything is an object. And every object has attributes and methods or functions. Attributes are described by data variables for example like name, age, height etc.\"\n",
    "y = x.count(\"In python, everything is an object\")\n",
    "print(y)"
   ]
  },
  {
   "cell_type": "markdown",
   "metadata": {},
   "source": [
    "# 5) Encode"
   ]
  },
  {
   "cell_type": "code",
   "execution_count": 18,
   "metadata": {},
   "outputs": [
    {
     "name": "stdout",
     "output_type": "stream",
     "text": [
      "b'This is a message'\n"
     ]
    }
   ],
   "source": [
    "m = \"This is a message\"\n",
    "n = m.encode()\n",
    "print(n)"
   ]
  },
  {
   "cell_type": "markdown",
   "metadata": {},
   "source": [
    "# 6) Endswith"
   ]
  },
  {
   "cell_type": "code",
   "execution_count": 20,
   "metadata": {},
   "outputs": [
    {
     "name": "stdout",
     "output_type": "stream",
     "text": [
      "True\n",
      "True\n",
      "False\n",
      "True\n"
     ]
    }
   ],
   "source": [
    "Str = 'this is string example....wow!!!'\n",
    "suffix = '!!'\n",
    "print (Str.endswith(suffix))\n",
    "print (Str.endswith(suffix,20))\n",
    "\n",
    "suffix = 'exam'\n",
    "print (Str.endswith(suffix))\n",
    "print (Str.endswith(suffix, 0, 19))"
   ]
  },
  {
   "cell_type": "markdown",
   "metadata": {},
   "source": [
    "# 7) Expandtabs"
   ]
  },
  {
   "cell_type": "code",
   "execution_count": 24,
   "metadata": {},
   "outputs": [
    {
     "name": "stdout",
     "output_type": "stream",
     "text": [
      "Goodluck        &       HaveFun\n"
     ]
    }
   ],
   "source": [
    "x = \"Goodluck\\t&\\tHaveFun\"\n",
    "y = x.expandtabs()\n",
    "print(y)\n",
    "\n"
   ]
  },
  {
   "cell_type": "markdown",
   "metadata": {},
   "source": [
    "# 8) Find"
   ]
  },
  {
   "cell_type": "code",
   "execution_count": 23,
   "metadata": {},
   "outputs": [
    {
     "name": "stdout",
     "output_type": "stream",
     "text": [
      "10\n"
     ]
    }
   ],
   "source": [
    "x = \"Porfavore Senor!!!\"\n",
    "y = x.find(\"Senor\") #return the index from where the word starts\n",
    "print(y)"
   ]
  },
  {
   "cell_type": "markdown",
   "metadata": {},
   "source": [
    "# 9) Format"
   ]
  },
  {
   "cell_type": "code",
   "execution_count": 27,
   "metadata": {},
   "outputs": [
    {
     "name": "stdout",
     "output_type": "stream",
     "text": [
      "Hi, I'm Cortana Cortana \n"
     ]
    }
   ],
   "source": [
    "x = \"Hi, I'm Cortana {} \"\n",
    "y = x.format(\"Cortana\")\n",
    "print(y)"
   ]
  },
  {
   "cell_type": "markdown",
   "metadata": {},
   "source": [
    "# 10) Format_map"
   ]
  },
  {
   "cell_type": "code",
   "execution_count": 28,
   "metadata": {},
   "outputs": [
    {
     "name": "stdout",
     "output_type": "stream",
     "text": [
      "Hello ,I love to play Counter Strike beacuse I'm very good in this game!!!\n"
     ]
    }
   ],
   "source": [
    "x = \"Hello ,I love to play {game} beacuse I'm very {description} in this game!!!\"\n",
    "dictionary = {'game': 'Counter Strike', 'description':'good'}\n",
    "y = x.format_map(dictionary)\n",
    "print(y)"
   ]
  },
  {
   "cell_type": "markdown",
   "metadata": {},
   "source": [
    "# 11) Index"
   ]
  },
  {
   "cell_type": "code",
   "execution_count": 29,
   "metadata": {},
   "outputs": [
    {
     "name": "stdout",
     "output_type": "stream",
     "text": [
      "14\n"
     ]
    }
   ],
   "source": [
    "x = \"Welcome to my youtube channel\"\n",
    "y = x.index(\"youtube\")\n",
    "print(y)"
   ]
  },
  {
   "cell_type": "markdown",
   "metadata": {},
   "source": [
    "# 12) Isalnum"
   ]
  },
  {
   "cell_type": "code",
   "execution_count": 30,
   "metadata": {},
   "outputs": [
    {
     "name": "stdout",
     "output_type": "stream",
     "text": [
      "True\n"
     ]
    }
   ],
   "source": [
    "x = \"AIforEverywone2020\"\n",
    "y = x.isalnum()\n",
    "print(y)"
   ]
  },
  {
   "cell_type": "markdown",
   "metadata": {},
   "source": [
    "# 13) Isalpha"
   ]
  },
  {
   "cell_type": "code",
   "execution_count": 31,
   "metadata": {},
   "outputs": [
    {
     "name": "stdout",
     "output_type": "stream",
     "text": [
      "False\n"
     ]
    }
   ],
   "source": [
    "m = \"We Shall Rule the Day\"\n",
    "n = m.isalpha()\n",
    "print(n)\n",
    "\n"
   ]
  },
  {
   "cell_type": "markdown",
   "metadata": {},
   "source": [
    "# 14) IsASCII"
   ]
  },
  {
   "cell_type": "code",
   "execution_count": 33,
   "metadata": {},
   "outputs": [
    {
     "name": "stdout",
     "output_type": "stream",
     "text": [
      "True\n"
     ]
    }
   ],
   "source": [
    "x = \"0x0321654132 is an ASCII value\"\n",
    "y = x.isascii()\n",
    "print(y)\n",
    "\n"
   ]
  },
  {
   "cell_type": "markdown",
   "metadata": {},
   "source": [
    "# 15) IsDecimal"
   ]
  },
  {
   "cell_type": "code",
   "execution_count": 34,
   "metadata": {},
   "outputs": [
    {
     "name": "stdout",
     "output_type": "stream",
     "text": [
      "False\n"
     ]
    }
   ],
   "source": [
    "a = \"\\0.2652\"\n",
    "b = a.isdecimal()\n",
    "print(b)"
   ]
  },
  {
   "cell_type": "markdown",
   "metadata": {},
   "source": [
    "# 16) Isdigit\n"
   ]
  },
  {
   "cell_type": "code",
   "execution_count": 35,
   "metadata": {},
   "outputs": [
    {
     "name": "stdout",
     "output_type": "stream",
     "text": [
      "False\n"
     ]
    }
   ],
   "source": [
    "x =\"This is a number\"\n",
    "y = x.isdigit()\n",
    "print(y)\n",
    "\n"
   ]
  },
  {
   "cell_type": "markdown",
   "metadata": {},
   "source": [
    "# 17) Isidentifier"
   ]
  },
  {
   "cell_type": "code",
   "execution_count": 36,
   "metadata": {},
   "outputs": [
    {
     "name": "stdout",
     "output_type": "stream",
     "text": [
      "False   <built-in method isidentifier of str object at 0x0000015ED68F3DF0>\n"
     ]
    }
   ],
   "source": [
    "x = \"this is not an identifier\"\n",
    "y = \"this_is_an_identifier2\"\n",
    "z = x.isidentifier()\n",
    "e = y.isidentifier\n",
    "print(z,\" \",e)"
   ]
  },
  {
   "cell_type": "markdown",
   "metadata": {},
   "source": [
    "# 18) Islower"
   ]
  },
  {
   "cell_type": "code",
   "execution_count": 38,
   "metadata": {},
   "outputs": [
    {
     "name": "stdout",
     "output_type": "stream",
     "text": [
      "False\n"
     ]
    }
   ],
   "source": [
    "a_1 = \"This Guy is a MoRon\"\n",
    "a_2 = a_1.islower()\n",
    "print(a_2)\n",
    "\n"
   ]
  },
  {
   "cell_type": "markdown",
   "metadata": {},
   "source": [
    "# 19) Isnumeric"
   ]
  },
  {
   "cell_type": "code",
   "execution_count": 41,
   "metadata": {},
   "outputs": [
    {
     "name": "stdout",
     "output_type": "stream",
     "text": [
      "True\n",
      "False\n"
     ]
    }
   ],
   "source": [
    "x_1 = \"321651\"\n",
    "x_2 = \"324ada5d465456\"\n",
    "y_1 =x_1.isnumeric()\n",
    "y_2 =x_2.isnumeric()\n",
    "print(y_1)\n",
    "print(y_2)"
   ]
  },
  {
   "cell_type": "markdown",
   "metadata": {},
   "source": [
    "# 20) Isprintable "
   ]
  },
  {
   "cell_type": "code",
   "execution_count": 44,
   "metadata": {},
   "outputs": [
    {
     "name": "stdout",
     "output_type": "stream",
     "text": [
      "True\n",
      "True\n",
      "True\n"
     ]
    }
   ],
   "source": [
    "a_1 = \"=jkk\"\n",
    "a_2 = \"324a654654\"\n",
    "a_3 = \"341321T^%&^\"\n",
    "print(a_1.isprintable())\n",
    "print(a_2.isprintable())\n",
    "print(a_3.isprintable())"
   ]
  },
  {
   "cell_type": "markdown",
   "metadata": {},
   "source": [
    "# 21) IsSpace"
   ]
  },
  {
   "cell_type": "code",
   "execution_count": 46,
   "metadata": {},
   "outputs": [
    {
     "name": "stdout",
     "output_type": "stream",
     "text": [
      "False\n",
      "False\n"
     ]
    }
   ],
   "source": [
    "x_1 = \"No spaces are present\"\n",
    "x_2 = \"ILOVEPYTHON!!!!\"\n",
    "print(x_1.isspace())\n",
    "print(x_2.isspace())"
   ]
  },
  {
   "cell_type": "markdown",
   "metadata": {},
   "source": [
    "# 22) Title"
   ]
  },
  {
   "cell_type": "code",
   "execution_count": 47,
   "metadata": {},
   "outputs": [
    {
     "name": "stdout",
     "output_type": "stream",
     "text": [
      "True\n",
      "False\n"
     ]
    }
   ],
   "source": [
    "x = \"This Is A Title\"\n",
    "y = \"321321561\"\n",
    "print(x.istitle())  # returns true if first uppercase AND rest lowercase\n",
    "print(y.istitle())\n"
   ]
  },
  {
   "cell_type": "markdown",
   "metadata": {},
   "source": [
    "# 23) Is Upper Case "
   ]
  },
  {
   "cell_type": "code",
   "execution_count": 48,
   "metadata": {},
   "outputs": [
    {
     "name": "stdout",
     "output_type": "stream",
     "text": [
      "False\n",
      "True\n"
     ]
    }
   ],
   "source": [
    "x = \"Welcome to the world of AI\"\n",
    "y = \"HEY IM BIXBY\"\n",
    "print(x.isupper())\n",
    "print(y.isupper())\n"
   ]
  },
  {
   "cell_type": "markdown",
   "metadata": {},
   "source": [
    "# 24) Join"
   ]
  },
  {
   "cell_type": "code",
   "execution_count": 49,
   "metadata": {},
   "outputs": [
    {
     "name": "stdout",
     "output_type": "stream",
     "text": [
      "GG WP\n"
     ]
    }
   ],
   "source": [
    "m_1 = (\"GG\",\"WP\")\n",
    "z = \" \".join(m_1)\n",
    "print(z)\n",
    "\n"
   ]
  },
  {
   "cell_type": "markdown",
   "metadata": {},
   "source": [
    "# 25) LJust"
   ]
  },
  {
   "cell_type": "code",
   "execution_count": 51,
   "metadata": {},
   "outputs": [
    {
     "name": "stdout",
     "output_type": "stream",
     "text": [
      "Hacker                    INCOMING!!!!!!!!\n"
     ]
    }
   ],
   "source": [
    "x = \"Hacker \"\n",
    "x = x.ljust(25)\n",
    "print(x,\"INCOMING!!!!!!!!\")\n",
    "\n"
   ]
  },
  {
   "cell_type": "markdown",
   "metadata": {},
   "source": [
    "# 26) Lower"
   ]
  },
  {
   "cell_type": "code",
   "execution_count": 52,
   "metadata": {},
   "outputs": [
    {
     "name": "stdout",
     "output_type": "stream",
     "text": [
      "sir qasim is awesome\n"
     ]
    }
   ],
   "source": [
    "a = \"Sir Qasim is AWESOME\"\n",
    "print(a.lower())"
   ]
  },
  {
   "cell_type": "markdown",
   "metadata": {},
   "source": [
    "# 27) Lstrip"
   ]
  },
  {
   "cell_type": "code",
   "execution_count": 56,
   "metadata": {},
   "outputs": [
    {
     "name": "stdout",
     "output_type": "stream",
     "text": [
      "The Aventador has 691BHP with it's 6.5L V12\n"
     ]
    }
   ],
   "source": [
    "x = \" has\"\n",
    "y = \"it's\"\n",
    "x = x.lstrip() # cancetenates strings and adds additional space \n",
    "y = y.lstrip()\n",
    "print(\"The Aventador\",x,\"691BHP with\",y, \"6.5L V12\")"
   ]
  },
  {
   "cell_type": "markdown",
   "metadata": {},
   "source": [
    "# 28) Maketrans"
   ]
  },
  {
   "cell_type": "code",
   "execution_count": 57,
   "metadata": {},
   "outputs": [
    {
     "name": "stdout",
     "output_type": "stream",
     "text": [
      "{120: 110}\n"
     ]
    }
   ],
   "source": [
    "intab = \"xxxxxx\"\n",
    "outtab = \"python\"\n",
    "x = \"abc\"\n",
    "\n",
    "print(x.maketrans(intab,outtab))"
   ]
  },
  {
   "cell_type": "markdown",
   "metadata": {},
   "source": [
    "# 29) Partition"
   ]
  },
  {
   "cell_type": "code",
   "execution_count": 58,
   "metadata": {},
   "outputs": [
    {
     "name": "stdout",
     "output_type": "stream",
     "text": [
      "('The ', 'Chiron', ' was first shown at the Geneva Motor Show on 1 March 2016')\n"
     ]
    }
   ],
   "source": [
    "x = \"The Chiron was first shown at the Geneva Motor Show on 1 March 2016\"\n",
    "print(x.partition(\"Chiron\"))"
   ]
  },
  {
   "cell_type": "markdown",
   "metadata": {},
   "source": [
    "# 30) Replace"
   ]
  },
  {
   "cell_type": "code",
   "execution_count": 61,
   "metadata": {},
   "outputs": [
    {
     "name": "stdout",
     "output_type": "stream",
     "text": [
      "The McLaren P1 is a limited-production plug-in hybrid sports car produced by British automobile manufacturer McLaren Automotive\n"
     ]
    }
   ],
   "source": [
    "a = \"The McLaren Senna is a limited-production plug-in hybrid sports car produced by British automobile manufacturer McLaren Automotive\"\n",
    "print(a.replace(\"Senna\",\"P1\"))"
   ]
  },
  {
   "cell_type": "markdown",
   "metadata": {},
   "source": [
    "# 31) RFind"
   ]
  },
  {
   "cell_type": "code",
   "execution_count": 62,
   "metadata": {},
   "outputs": [
    {
     "name": "stdout",
     "output_type": "stream",
     "text": [
      "38\n"
     ]
    }
   ],
   "source": [
    "x = \"Leclerc made his Formula One debut in 2018 for Sauber, a team affiliated with Ferrari\"\n",
    "print(x.rfind(\"2018\"))"
   ]
  },
  {
   "cell_type": "markdown",
   "metadata": {},
   "source": [
    "# 32) RIndex"
   ]
  },
  {
   "cell_type": "code",
   "execution_count": 63,
   "metadata": {},
   "outputs": [
    {
     "name": "stdout",
     "output_type": "stream",
     "text": [
      "57\n"
     ]
    }
   ],
   "source": [
    "x = \"Leclerc made his Formula One debut in 2018 for Sauber, a team affiliated with Ferrari\"\n",
    "print(x.rindex(\"team\"))"
   ]
  },
  {
   "cell_type": "markdown",
   "metadata": {},
   "source": [
    "# 33) RJust"
   ]
  },
  {
   "cell_type": "code",
   "execution_count": 71,
   "metadata": {},
   "outputs": [
    {
     "name": "stdout",
     "output_type": "stream",
     "text": [
      "Leclerc agreed on a contract with Ferrari for the 2019 season where he is driving alongside Sebastian Vettel.  And as he............\n"
     ]
    }
   ],
   "source": [
    "x = \"Leclerc agreed on a contract with Ferrari for the 2019 season where he is driving alongside Sebastian Vettel. \"\n",
    "y = x.rjust(5)\n",
    "print(y,\"And as he............\")\n",
    "\n"
   ]
  },
  {
   "cell_type": "markdown",
   "metadata": {},
   "source": [
    "# 34) RPartition"
   ]
  },
  {
   "cell_type": "code",
   "execution_count": 72,
   "metadata": {},
   "outputs": [
    {
     "name": "stdout",
     "output_type": "stream",
     "text": [
      "('I love ', 'reading', ' books; I can do it all day')\n"
     ]
    }
   ],
   "source": [
    "x = \"I love reading books; I can do it all day\"\n",
    "print( x.rpartition(\"reading\"))\n",
    "\n"
   ]
  },
  {
   "cell_type": "markdown",
   "metadata": {},
   "source": [
    "# 35) RSplit"
   ]
  },
  {
   "cell_type": "code",
   "execution_count": 73,
   "metadata": {},
   "outputs": [
    {
     "name": "stdout",
     "output_type": "stream",
     "text": [
      "['C++', 'python', 'java']\n"
     ]
    }
   ],
   "source": [
    "x = \"C++, python, java\"\n",
    "y = x.rsplit(\", \")\n",
    "print(y)"
   ]
  },
  {
   "cell_type": "markdown",
   "metadata": {},
   "source": [
    "# 36) RStrip"
   ]
  },
  {
   "cell_type": "code",
   "execution_count": 75,
   "metadata": {},
   "outputs": [
    {
     "name": "stdout",
     "output_type": "stream",
     "text": [
      "The Chiron's top speed is  electronically limited to 420 km/h (261 mph \n"
     ]
    }
   ],
   "source": [
    "x = \"is\"\n",
    "y = x.rstrip\n",
    "print(\"The Chiron's top speed\",x,\" electronically limited to 420 km/h (261 mph \")\n",
    "\n"
   ]
  },
  {
   "cell_type": "markdown",
   "metadata": {},
   "source": [
    "# 37) Split"
   ]
  },
  {
   "cell_type": "code",
   "execution_count": 76,
   "metadata": {},
   "outputs": [
    {
     "name": "stdout",
     "output_type": "stream",
     "text": [
      "['The', 'La', 'Voiture', 'Noire', 'is', 'a', 'one-off', 'special', 'introduced', 'at', 'the', '2019', 'Geneva', 'Motor', 'Show']\n"
     ]
    }
   ],
   "source": [
    "x = \"The La Voiture Noire is a one-off special introduced at the 2019 Geneva Motor Show\"\n",
    "print(x.split())"
   ]
  },
  {
   "cell_type": "markdown",
   "metadata": {},
   "source": [
    "# 38) Splitlines"
   ]
  },
  {
   "cell_type": "code",
   "execution_count": 77,
   "metadata": {},
   "outputs": [
    {
     "name": "stdout",
     "output_type": "stream",
     "text": [
      "['GL', 'HF']\n"
     ]
    }
   ],
   "source": [
    "x = \"GL\\nHF\"\n",
    "x = x.splitlines()\n",
    "print(x)"
   ]
  },
  {
   "cell_type": "markdown",
   "metadata": {},
   "source": [
    "# 39) Startswith"
   ]
  },
  {
   "cell_type": "code",
   "execution_count": 81,
   "metadata": {},
   "outputs": [
    {
     "name": "stdout",
     "output_type": "stream",
     "text": [
      "False\n",
      "False\n",
      "False\n",
      "False\n"
     ]
    }
   ],
   "source": [
    "x = \"The sentence starts with an adjective\"\n",
    "print(x.startswith(\"adjective\"))\n",
    "print(x.startswith(\"Article\"))\n",
    "print(x.startswith(\"Pronoun\"))\n",
    "y = \"Imram Khan is the best!!\"\n",
    "print(y.startswith(\"Noun\"))"
   ]
  },
  {
   "cell_type": "markdown",
   "metadata": {},
   "source": [
    "# 40) Strip"
   ]
  },
  {
   "cell_type": "code",
   "execution_count": 82,
   "metadata": {},
   "outputs": [
    {
     "name": "stdout",
     "output_type": "stream",
     "text": [
      "Lamborghini  Aventador SVJ\n"
     ]
    }
   ],
   "source": [
    "x = \" Aventador\"\n",
    "y = x.strip()\n",
    "print(\"Lamborghini\",x,\"SVJ\")"
   ]
  },
  {
   "cell_type": "markdown",
   "metadata": {},
   "source": [
    "# 41) Swapcase"
   ]
  },
  {
   "cell_type": "code",
   "execution_count": 83,
   "metadata": {},
   "outputs": [
    {
     "name": "stdout",
     "output_type": "stream",
     "text": [
      "THE 720s aCCORDING tO MClAREN iS 91% nEW aS cOMPARED tO iTS pREDECESSOR.  \n"
     ]
    }
   ],
   "source": [
    "x = \"the 720S According To mcLaren Is 91% New As Compared To Its Predecessor.  \"\n",
    "print(x.swapcase())"
   ]
  },
  {
   "cell_type": "markdown",
   "metadata": {},
   "source": [
    "# 42) Title"
   ]
  },
  {
   "cell_type": "code",
   "execution_count": 84,
   "metadata": {},
   "outputs": [
    {
     "name": "stdout",
     "output_type": "stream",
     "text": [
      "Brabus 6X6\n"
     ]
    }
   ],
   "source": [
    "x = \"Brabus 6x6\"\n",
    "print(x.title())"
   ]
  },
  {
   "cell_type": "markdown",
   "metadata": {},
   "source": [
    "# 43) Translate"
   ]
  },
  {
   "cell_type": "code",
   "execution_count": 85,
   "metadata": {},
   "outputs": [
    {
     "name": "stdout",
     "output_type": "stream",
     "text": [
      "PIAIC74099\n"
     ]
    }
   ],
   "source": [
    "first = \"jhjhj\"\n",
    "second = \"asasa\"\n",
    "third = \"PIAIC74099\"\n",
    "trans = third.maketrans(first,second)\n",
    "print(third.translate(trans))"
   ]
  },
  {
   "cell_type": "markdown",
   "metadata": {},
   "source": [
    "# 44) Upper"
   ]
  },
  {
   "cell_type": "code",
   "execution_count": 86,
   "metadata": {},
   "outputs": [
    {
     "name": "stdout",
     "output_type": "stream",
     "text": [
      "THE 720S ACCORDING TO MCLAREN IS 91% NEW AS COMPARED TO ITS PREDECESSOR.  \n"
     ]
    }
   ],
   "source": [
    " x= \"the 720S According To mcLaren Is 91% New As Compared To Its Predecessor.  \"\n",
    "print(x.upper())"
   ]
  },
  {
   "cell_type": "markdown",
   "metadata": {},
   "source": [
    "# 45) ZFill"
   ]
  },
  {
   "cell_type": "code",
   "execution_count": 90,
   "metadata": {},
   "outputs": [
    {
     "name": "stdout",
     "output_type": "stream",
     "text": [
      "000000Bugatti Veyron\n"
     ]
    }
   ],
   "source": [
    "x = \"Bugatti Veyron\"\n",
    "y = x.zfill(20)\n",
    "print(y)"
   ]
  },
  {
   "cell_type": "markdown",
   "metadata": {},
   "source": [
    "# 46) Append"
   ]
  },
  {
   "cell_type": "code",
   "execution_count": 91,
   "metadata": {},
   "outputs": [
    {
     "name": "stdout",
     "output_type": "stream",
     "text": [
      "['Lamborghino', 'Veneno', 'LP 770-4']\n"
     ]
    }
   ],
   "source": [
    "x = [\"Lamborghino\",\"Veneno\"]\n",
    "x.append(\"LP 770-4\")\n",
    "\n",
    "print(x)"
   ]
  },
  {
   "cell_type": "markdown",
   "metadata": {},
   "source": [
    "# 47) Clear"
   ]
  },
  {
   "cell_type": "code",
   "execution_count": 92,
   "metadata": {},
   "outputs": [
    {
     "name": "stdout",
     "output_type": "stream",
     "text": [
      "[]\n"
     ]
    }
   ],
   "source": [
    "x = [\"hello\",\"world\",\"python\"]\n",
    "x.clear()\n",
    "print(x)"
   ]
  },
  {
   "cell_type": "markdown",
   "metadata": {},
   "source": [
    "# # EX.2 -> 20 Operands With Different Operators"
   ]
  },
  {
   "cell_type": "code",
   "execution_count": 111,
   "metadata": {},
   "outputs": [
    {
     "data": {
      "text/plain": [
       "-104.34846922834953"
      ]
     },
     "execution_count": 111,
     "metadata": {},
     "output_type": "execute_result"
    }
   ],
   "source": [
    "5**2*4//3+8-12+(-68+5)%(5)+6**2-84*2+4-9/3*3+9-54**0.5     "
   ]
  },
  {
   "cell_type": "code",
   "execution_count": null,
   "metadata": {},
   "outputs": [],
   "source": []
  }
 ],
 "metadata": {
  "kernelspec": {
   "display_name": "Python 3",
   "language": "python",
   "name": "python3"
  },
  "language_info": {
   "codemirror_mode": {
    "name": "ipython",
    "version": 3
   },
   "file_extension": ".py",
   "mimetype": "text/x-python",
   "name": "python",
   "nbconvert_exporter": "python",
   "pygments_lexer": "ipython3",
   "version": "3.7.4"
  }
 },
 "nbformat": 4,
 "nbformat_minor": 2
}
